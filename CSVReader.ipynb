{
 "cells": [
  {
   "cell_type": "code",
   "execution_count": 1,
   "id": "c2d2b896",
   "metadata": {},
   "outputs": [
    {
     "name": "stdout",
     "output_type": "stream",
     "text": [
      "平均成交金額 18326562301.25\n",
      "平均收盤價 605.85\n"
     ]
    }
   ],
   "source": [
    "import csv,json\n",
    "L = \"STOCK_DAY_2330_202109.csv\"\n",
    "jL = \"STOCK_DAY_2330_202109_sorted.json\"\n",
    "jsData = []\n",
    "priceMean = 0\n",
    "plateMean = 0\n",
    "with open(L,encoding=\"UTF-8\") as F:\n",
    "    data = csv.DictReader(F)\n",
    "    for line in data:\n",
    "        jsData.append({\"日期\":line[\"日期\"],\"成交金額\":line[\"成交金額\"],\"收盤價\":line[\"收盤價\"]})\n",
    "        priceMean += int(line[\"成交金額\"].replace(\",\",\"\"))\n",
    "        plateMean += int(line[\"收盤價\"].replace(\",\",\"\"))\n",
    "    print(\"平均成交金額 {}\\n平均收盤價 {}\".format(priceMean/len(jsData),plateMean/len(jsData)))\n",
    "with open(jL,'w',encoding=\"UTF-8\") as jF:\n",
    "    jsData.sort(key= lambda x : int(x[\"成交金額\"].replace(\",\",\"\")))\n",
    "    json.dump(jsData,jF,ensure_ascii=False,indent=4)   "
   ]
  },
  {
   "cell_type": "code",
   "execution_count": null,
   "id": "62e506af",
   "metadata": {},
   "outputs": [],
   "source": []
  },
  {
   "cell_type": "code",
   "execution_count": 149,
   "id": "0e98328b",
   "metadata": {},
   "outputs": [
    {
     "data": {
      "text/plain": [
       "(10, 20)"
      ]
     },
     "execution_count": 149,
     "metadata": {},
     "output_type": "execute_result"
    }
   ],
   "source": [
    "import random,math\n",
    "a = []\n",
    "for x in range(10):\n",
    "    a.append(random.randrange(-100,100,1))\n",
    "def sortFunction(x):\n",
    "    return math.sin(x)\n",
    "\n",
    "L.sor(key = lambda x : x[\"...\"])\n",
    "\n",
    "a.sort(key= lambda x : math.sin(x))\n",
    "a = lambda x , y : (x,y)\n",
    "a(10,20)"
   ]
  },
  {
   "cell_type": "code",
   "execution_count": 112,
   "id": "51aea633",
   "metadata": {},
   "outputs": [
    {
     "name": "stdout",
     "output_type": "stream",
     "text": [
      "[{'日期': '110/09/01', '成交金額': '19,126,702,297', '收盤價': '613'}, {'日期': '110/09/02', '成交金額': '16,341,803,689', '收盤價': '607'}, {'日期': '110/09/03', '成交金額': '33,278,648,609', '收盤價': '620'}, {'日期': '110/09/06', '成交金額': '37,250,623,087', '收盤價': '631'}, {'日期': '110/09/07', '成交金額': '17,191,259,166', '收盤價': '623'}, {'日期': '110/09/08', '成交金額': '23,960,375,113', '收盤價': '619'}, {'日期': '110/09/09', '成交金額': '11,886,107,760', '收盤價': '619'}, {'日期': '110/09/10', '成交金額': '10,365,721,937', '收盤價': '622'}, {'日期': '110/09/13', '成交金額': '9,734,528,161', '收盤價': '615'}, {'日期': '110/09/14', '成交金額': '9,849,961,184', '收盤價': '613'}, {'日期': '110/09/15', '成交金額': '15,872,971,715', '收盤價': '607'}, {'日期': '110/09/16', '成交金額': '14,030,697,248', '收盤價': '600'}, {'日期': '110/09/17', '成交金額': '25,510,152,115', '收盤價': '600'}, {'日期': '110/09/22', '成交金額': '25,056,693,727', '收盤價': '586'}, {'日期': '110/09/23', '成交金額': '13,406,035,166', '收盤價': '588'}, {'日期': '110/09/24', '成交金額': '10,289,114,839', '收盤價': '598'}, {'日期': '110/09/27', '成交金額': '11,993,300,562', '收盤價': '602'}, {'日期': '110/09/28', '成交金額': '10,291,543,822', '收盤價': '594'}, {'日期': '110/09/29', '成交金額': '30,040,354,500', '收盤價': '580'}, {'日期': '110/09/30', '成交金額': '21,054,651,328', '收盤價': '580'}]\n"
     ]
    }
   ],
   "source": [
    "with open(L,encoding=\"UTF-8\") as F:\n",
    "    head = [\"日期\",\"成交金額\",\"收盤價\"]\n",
    "    jD = []\n",
    "    for x in csv.DictReader(F):\n",
    "        jD.append({\"日期\":x[\"日期\"],\"成交金額\":x[\"成交金額\"],\"收盤價\":x[\"收盤價\"]})\n",
    "    print(jD)"
   ]
  }
 ],
 "metadata": {
  "kernelspec": {
   "display_name": "Python 3",
   "language": "python",
   "name": "python3"
  },
  "language_info": {
   "codemirror_mode": {
    "name": "ipython",
    "version": 3
   },
   "file_extension": ".py",
   "mimetype": "text/x-python",
   "name": "python",
   "nbconvert_exporter": "python",
   "pygments_lexer": "ipython3",
   "version": "3.8.8"
  }
 },
 "nbformat": 4,
 "nbformat_minor": 5
}
