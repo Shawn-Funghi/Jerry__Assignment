{
 "cells": [
  {
   "cell_type": "code",
   "execution_count": 15,
   "id": "e59191d2",
   "metadata": {},
   "outputs": [
    {
     "name": "stdout",
     "output_type": "stream",
     "text": [
      "(<Cell 'Sheet1'.A1>, <Cell 'Sheet1'.B1>, <Cell 'Sheet1'.C1>)\n",
      "(<Cell 'Sheet1'.A2>, <Cell 'Sheet1'.B2>, <Cell 'Sheet1'.C2>)\n",
      "(<Cell 'Sheet1'.A3>, <Cell 'Sheet1'.B3>, <Cell 'Sheet1'.C3>)\n",
      "(<Cell 'Sheet1'.A4>, <Cell 'Sheet1'.B4>, <Cell 'Sheet1'.C4>)\n",
      "(<Cell 'Sheet1'.A5>, <Cell 'Sheet1'.B5>, <Cell 'Sheet1'.C5>)\n",
      "(<Cell 'Sheet1'.A6>, <Cell 'Sheet1'.B6>, <Cell 'Sheet1'.C6>)\n",
      "(<Cell 'Sheet1'.A7>, <Cell 'Sheet1'.B7>, <Cell 'Sheet1'.C7>)\n",
      "(<Cell 'Sheet1'.A8>, <Cell 'Sheet1'.B8>, <Cell 'Sheet1'.C8>)\n",
      "(<Cell 'Sheet1'.A9>, <Cell 'Sheet1'.B9>, <Cell 'Sheet1'.C9>)\n",
      "(<Cell 'Sheet1'.A10>, <Cell 'Sheet1'.B10>, <Cell 'Sheet1'.C10>)\n",
      "(<Cell 'Sheet1'.A11>, <Cell 'Sheet1'.B11>, <Cell 'Sheet1'.C11>)\n",
      "(<Cell 'Sheet1'.A12>, <Cell 'Sheet1'.B12>, <Cell 'Sheet1'.C12>)\n",
      "(<Cell 'Sheet1'.A13>, <Cell 'Sheet1'.B13>, <Cell 'Sheet1'.C13>)\n",
      "(<Cell 'Sheet1'.A14>, <Cell 'Sheet1'.B14>, <Cell 'Sheet1'.C14>)\n",
      "(<Cell 'Sheet1'.A15>, <Cell 'Sheet1'.B15>, <Cell 'Sheet1'.C15>)\n",
      "(<Cell 'Sheet1'.A16>, <Cell 'Sheet1'.B16>, <Cell 'Sheet1'.C16>)\n",
      "(<Cell 'Sheet1'.A17>, <Cell 'Sheet1'.B17>, <Cell 'Sheet1'.C17>)\n",
      "(<Cell 'Sheet1'.A18>, <Cell 'Sheet1'.B18>, <Cell 'Sheet1'.C18>)\n",
      "(<Cell 'Sheet1'.A19>, <Cell 'Sheet1'.B19>, <Cell 'Sheet1'.C19>)\n",
      "(<Cell 'Sheet1'.A20>, <Cell 'Sheet1'.B20>, <Cell 'Sheet1'.C20>)\n",
      "(<Cell 'Sheet1'.A21>, <Cell 'Sheet1'.B21>, <Cell 'Sheet1'.C21>)\n",
      "(<Cell 'Sheet1'.A22>, <Cell 'Sheet1'.B22>, <Cell 'Sheet1'.C22>)\n",
      "(<Cell 'Sheet1'.A23>, <Cell 'Sheet1'.B23>, <Cell 'Sheet1'.C23>)\n",
      "(<Cell 'Sheet1'.A24>, <Cell 'Sheet1'.B24>, <Cell 'Sheet1'.C24>)\n",
      "(<Cell 'Sheet1'.A25>, <Cell 'Sheet1'.B25>, <Cell 'Sheet1'.C25>)\n"
     ]
    }
   ],
   "source": [
    "from openpyxl import load_workbook as lw\n",
    "wb = lw(filename=\"employee.xlsx\")\n",
    "ws = wb['Sheet1']\n",
    "data = list(ws.rows)\n",
    "for cell in data:\n",
    "    print(cell)\n"
   ]
  },
  {
   "cell_type": "code",
   "execution_count": 83,
   "id": "cb6cf2b3",
   "metadata": {},
   "outputs": [
    {
     "name": "stdout",
     "output_type": "stream",
     "text": [
      "--- All data reading (Row major) ---\n",
      "   ID1  ID2    Name\n",
      "0    A   10   James\n",
      "1    A    9    Bill\n",
      "2    B   11     Tim\n",
      "3    A    1    Mary\n",
      "4    B    1     Ann\n",
      "5    A    2  Yamato\n",
      "6    C    1    Andy\n",
      "7    C    2     Liu\n",
      "8    D    1   James\n",
      "9    A    3    Andy\n",
      "10   D    2   Akira\n",
      "11   B    2    Sara\n",
      "12   A    7    Rick\n",
      "13   D    3    Mary\n",
      "14   B    3   James\n",
      "15   A   12     Tim\n",
      "16   D    4  Victor\n",
      "17   D    5   Harry\n",
      "18   C    5   Jason\n",
      "19   C    4    Luis\n",
      "20   B    5    Jack\n",
      "21   B    4   Wason\n",
      "22   C    3   Luisa\n",
      "23   D    6    Neil\n",
      "\n",
      "   ID1  ID2  salary\n",
      "0    A   10    1000\n",
      "1    A    9    1200\n",
      "2    B   11    1400\n",
      "3    B    1    1100\n",
      "4    A    2    1200\n",
      "5    C    1    1200\n",
      "6    D    1    1400\n",
      "7    A    3    1500\n",
      "8    D    2    1400\n",
      "9    B   22    1600\n",
      "10   D    3    1800\n",
      "11   B    3    1600\n",
      "12   A   12    1500\n",
      "13   D    4    2000\n",
      "14   D    5    2100\n",
      "15   C    5    2000\n",
      "16   B    5    1000\n",
      "17   B    4    1000\n",
      "18   C   13    1500\n",
      "19   D    6    1300\n",
      "\n"
     ]
    },
    {
     "ename": "ValueError",
     "evalue": "You are trying to merge on object and int64 columns. If you wish to proceed you should use pd.concat",
     "output_type": "error",
     "traceback": [
      "\u001b[1;31m---------------------------------------------------------------------------\u001b[0m",
      "\u001b[1;31mValueError\u001b[0m                                Traceback (most recent call last)",
      "\u001b[1;32m<ipython-input-83-4c59e13e77e8>\u001b[0m in \u001b[0;36m<module>\u001b[1;34m\u001b[0m\n\u001b[0;32m      9\u001b[0m \u001b[0mprint\u001b[0m\u001b[1;33m(\u001b[0m\u001b[0mdf2\u001b[0m\u001b[1;33m.\u001b[0m\u001b[0msort_index\u001b[0m\u001b[1;33m(\u001b[0m\u001b[0maxis\u001b[0m\u001b[1;33m=\u001b[0m\u001b[1;36m0\u001b[0m\u001b[1;33m)\u001b[0m\u001b[1;33m)\u001b[0m\u001b[1;33m\u001b[0m\u001b[1;33m\u001b[0m\u001b[0m\n\u001b[0;32m     10\u001b[0m \u001b[0mprint\u001b[0m\u001b[1;33m(\u001b[0m\u001b[1;34m\"\"\u001b[0m\u001b[1;33m)\u001b[0m\u001b[1;33m\u001b[0m\u001b[1;33m\u001b[0m\u001b[0m\n\u001b[1;32m---> 11\u001b[1;33m \u001b[0mdf3\u001b[0m \u001b[1;33m=\u001b[0m \u001b[0mdf1\u001b[0m\u001b[1;33m.\u001b[0m\u001b[0mjoin\u001b[0m\u001b[1;33m(\u001b[0m\u001b[0mdf2\u001b[0m\u001b[1;33m,\u001b[0m\u001b[0mon\u001b[0m\u001b[1;33m=\u001b[0m\u001b[1;34m'Name'\u001b[0m\u001b[1;33m,\u001b[0m\u001b[0mhow\u001b[0m\u001b[1;33m=\u001b[0m\u001b[1;34m'inner'\u001b[0m\u001b[1;33m)\u001b[0m\u001b[1;33m\u001b[0m\u001b[1;33m\u001b[0m\u001b[0m\n\u001b[0m\u001b[0;32m     12\u001b[0m \u001b[0mprint\u001b[0m\u001b[1;33m(\u001b[0m\u001b[0mdf3\u001b[0m\u001b[1;33m.\u001b[0m\u001b[0msort_index\u001b[0m\u001b[1;33m(\u001b[0m\u001b[1;33m)\u001b[0m\u001b[1;33m)\u001b[0m\u001b[1;33m\u001b[0m\u001b[1;33m\u001b[0m\u001b[0m\n",
      "\u001b[1;32mC:\\Anaconda\\lib\\site-packages\\pandas\\core\\frame.py\u001b[0m in \u001b[0;36mjoin\u001b[1;34m(self, other, on, how, lsuffix, rsuffix, sort)\u001b[0m\n\u001b[0;32m   8108\u001b[0m         \u001b[1;36m5\u001b[0m  \u001b[0mK5\u001b[0m  \u001b[0mA5\u001b[0m  \u001b[0mNaN\u001b[0m\u001b[1;33m\u001b[0m\u001b[1;33m\u001b[0m\u001b[0m\n\u001b[0;32m   8109\u001b[0m         \"\"\"\n\u001b[1;32m-> 8110\u001b[1;33m         return self._join_compat(\n\u001b[0m\u001b[0;32m   8111\u001b[0m             \u001b[0mother\u001b[0m\u001b[1;33m,\u001b[0m \u001b[0mon\u001b[0m\u001b[1;33m=\u001b[0m\u001b[0mon\u001b[0m\u001b[1;33m,\u001b[0m \u001b[0mhow\u001b[0m\u001b[1;33m=\u001b[0m\u001b[0mhow\u001b[0m\u001b[1;33m,\u001b[0m \u001b[0mlsuffix\u001b[0m\u001b[1;33m=\u001b[0m\u001b[0mlsuffix\u001b[0m\u001b[1;33m,\u001b[0m \u001b[0mrsuffix\u001b[0m\u001b[1;33m=\u001b[0m\u001b[0mrsuffix\u001b[0m\u001b[1;33m,\u001b[0m \u001b[0msort\u001b[0m\u001b[1;33m=\u001b[0m\u001b[0msort\u001b[0m\u001b[1;33m\u001b[0m\u001b[1;33m\u001b[0m\u001b[0m\n\u001b[0;32m   8112\u001b[0m         )\n",
      "\u001b[1;32mC:\\Anaconda\\lib\\site-packages\\pandas\\core\\frame.py\u001b[0m in \u001b[0;36m_join_compat\u001b[1;34m(self, other, on, how, lsuffix, rsuffix, sort)\u001b[0m\n\u001b[0;32m   8133\u001b[0m                     \u001b[0msort\u001b[0m\u001b[1;33m=\u001b[0m\u001b[0msort\u001b[0m\u001b[1;33m,\u001b[0m\u001b[1;33m\u001b[0m\u001b[1;33m\u001b[0m\u001b[0m\n\u001b[0;32m   8134\u001b[0m                 )\n\u001b[1;32m-> 8135\u001b[1;33m             return merge(\n\u001b[0m\u001b[0;32m   8136\u001b[0m                 \u001b[0mself\u001b[0m\u001b[1;33m,\u001b[0m\u001b[1;33m\u001b[0m\u001b[1;33m\u001b[0m\u001b[0m\n\u001b[0;32m   8137\u001b[0m                 \u001b[0mother\u001b[0m\u001b[1;33m,\u001b[0m\u001b[1;33m\u001b[0m\u001b[1;33m\u001b[0m\u001b[0m\n",
      "\u001b[1;32mC:\\Anaconda\\lib\\site-packages\\pandas\\core\\reshape\\merge.py\u001b[0m in \u001b[0;36mmerge\u001b[1;34m(left, right, how, on, left_on, right_on, left_index, right_index, sort, suffixes, copy, indicator, validate)\u001b[0m\n\u001b[0;32m     72\u001b[0m     \u001b[0mvalidate\u001b[0m\u001b[1;33m=\u001b[0m\u001b[1;32mNone\u001b[0m\u001b[1;33m,\u001b[0m\u001b[1;33m\u001b[0m\u001b[1;33m\u001b[0m\u001b[0m\n\u001b[0;32m     73\u001b[0m ) -> \"DataFrame\":\n\u001b[1;32m---> 74\u001b[1;33m     op = _MergeOperation(\n\u001b[0m\u001b[0;32m     75\u001b[0m         \u001b[0mleft\u001b[0m\u001b[1;33m,\u001b[0m\u001b[1;33m\u001b[0m\u001b[1;33m\u001b[0m\u001b[0m\n\u001b[0;32m     76\u001b[0m         \u001b[0mright\u001b[0m\u001b[1;33m,\u001b[0m\u001b[1;33m\u001b[0m\u001b[1;33m\u001b[0m\u001b[0m\n",
      "\u001b[1;32mC:\\Anaconda\\lib\\site-packages\\pandas\\core\\reshape\\merge.py\u001b[0m in \u001b[0;36m__init__\u001b[1;34m(self, left, right, how, on, left_on, right_on, axis, left_index, right_index, sort, suffixes, copy, indicator, validate)\u001b[0m\n\u001b[0;32m    670\u001b[0m         \u001b[1;31m# validate the merge keys dtypes. We may need to coerce\u001b[0m\u001b[1;33m\u001b[0m\u001b[1;33m\u001b[0m\u001b[1;33m\u001b[0m\u001b[0m\n\u001b[0;32m    671\u001b[0m         \u001b[1;31m# to avoid incompatible dtypes\u001b[0m\u001b[1;33m\u001b[0m\u001b[1;33m\u001b[0m\u001b[1;33m\u001b[0m\u001b[0m\n\u001b[1;32m--> 672\u001b[1;33m         \u001b[0mself\u001b[0m\u001b[1;33m.\u001b[0m\u001b[0m_maybe_coerce_merge_keys\u001b[0m\u001b[1;33m(\u001b[0m\u001b[1;33m)\u001b[0m\u001b[1;33m\u001b[0m\u001b[1;33m\u001b[0m\u001b[0m\n\u001b[0m\u001b[0;32m    673\u001b[0m \u001b[1;33m\u001b[0m\u001b[0m\n\u001b[0;32m    674\u001b[0m         \u001b[1;31m# If argument passed to validate,\u001b[0m\u001b[1;33m\u001b[0m\u001b[1;33m\u001b[0m\u001b[1;33m\u001b[0m\u001b[0m\n",
      "\u001b[1;32mC:\\Anaconda\\lib\\site-packages\\pandas\\core\\reshape\\merge.py\u001b[0m in \u001b[0;36m_maybe_coerce_merge_keys\u001b[1;34m(self)\u001b[0m\n\u001b[0;32m   1191\u001b[0m                     \u001b[0minferred_right\u001b[0m \u001b[1;32min\u001b[0m \u001b[0mstring_types\u001b[0m \u001b[1;32mand\u001b[0m \u001b[0minferred_left\u001b[0m \u001b[1;32mnot\u001b[0m \u001b[1;32min\u001b[0m \u001b[0mstring_types\u001b[0m\u001b[1;33m\u001b[0m\u001b[1;33m\u001b[0m\u001b[0m\n\u001b[0;32m   1192\u001b[0m                 ):\n\u001b[1;32m-> 1193\u001b[1;33m                     \u001b[1;32mraise\u001b[0m \u001b[0mValueError\u001b[0m\u001b[1;33m(\u001b[0m\u001b[0mmsg\u001b[0m\u001b[1;33m)\u001b[0m\u001b[1;33m\u001b[0m\u001b[1;33m\u001b[0m\u001b[0m\n\u001b[0m\u001b[0;32m   1194\u001b[0m \u001b[1;33m\u001b[0m\u001b[0m\n\u001b[0;32m   1195\u001b[0m             \u001b[1;31m# datetimelikes must match exactly\u001b[0m\u001b[1;33m\u001b[0m\u001b[1;33m\u001b[0m\u001b[1;33m\u001b[0m\u001b[0m\n",
      "\u001b[1;31mValueError\u001b[0m: You are trying to merge on object and int64 columns. If you wish to proceed you should use pd.concat"
     ]
    }
   ],
   "source": [
    "import pandas as pd\n",
    "df1 = pd.read_excel(\"employee.xlsx\",sheet_name=0)\n",
    "df2 = pd.read_excel(\"employee.xlsx\",sheet_name=1)\n",
    "print(\"--- All data reading (Row major) ---\")\n",
    "#df1 = df1.set_index(['ID1','ID2'])\n",
    "#df2 = df2.set_index(['ID1','ID2'])\n",
    "print(df1.sort_index(axis=0))\n",
    "print(\"\")\n",
    "print(df2.sort_index(axis=0))\n",
    "print(\"\")\n",
    "df3 = df1.join(df2,on='Name',how='inner')\n",
    "print(df3.sort_index())"
   ]
  },
  {
   "cell_type": "code",
   "execution_count": 39,
   "id": "93f823e6",
   "metadata": {},
   "outputs": [
    {
     "name": "stdout",
     "output_type": "stream",
     "text": [
      "left join:\n",
      "     ID   Name  Score\n",
      "0  A01  James   90.0\n",
      "1  A02   Mary  100.0\n",
      "2  A03   Bill   95.0\n",
      "3  A04    Ann    NaN\n",
      "4  A05   Judy    NaN\n",
      "5  A06    Tim    NaN\n",
      "inner join:\n",
      "     ID   Name  Score\n",
      "0  A01  James     90\n",
      "1  A02   Mary    100\n",
      "2  A03   Bill     95\n",
      "outer join:\n",
      "       ID   Name  Score\n",
      "0.0  A01  James   90.0\n",
      "1.0  A02   Mary  100.0\n",
      "2.0  A03   Bill   95.0\n",
      "3.0  A04    Ann    NaN\n",
      "4.0  A05   Judy    NaN\n",
      "5.0  A06    Tim    NaN\n",
      "NaN  A07    NaN   88.0\n",
      "NaN  A08    NaN   76.0\n",
      "right join:\n",
      "       ID   Name  Score\n",
      "0.0  A01  James     90\n",
      "1.0  A02   Mary    100\n",
      "2.0  A03   Bill     95\n",
      "NaN  A07    NaN     88\n",
      "NaN  A08    NaN     76\n"
     ]
    }
   ],
   "source": [
    "import pandas as pd\n",
    "students = pd.DataFrame(\n",
    "\n",
    "{'ID': ['A01', 'A02', 'A03', 'A04', 'A05', 'A06'],\n",
    "'Name': ['James', 'Mary', 'Bill', 'Ann', 'Judy', 'Tim']})\n",
    "\n",
    "scores = pd.DataFrame(\n",
    "\n",
    "{'ID': ['A01', 'A02', 'A03', 'A07', 'A08'],\n",
    "'Score': [90, 100, 95, 88, 76]})\n",
    "\n",
    "i_students = students.set_index('ID') # Set 'ID' as a key\n",
    "i_scores = scores.set_index('ID')\n",
    "T = students.join(i_scores, on='ID') # Using students' default index\n",
    "print('left join:\\n', T)\n",
    "T = students.join(i_scores, on='ID', how='inner')\n",
    "print('inner join:\\n', T)\n",
    "T = students.join(i_scores, on='ID', how='outer')\n",
    "print('outer join:\\n', T)\n",
    "T = students.join(i_scores, on='ID', how='right')\n",
    "print('right join:\\n', T)"
   ]
  },
  {
   "cell_type": "code",
   "execution_count": 80,
   "id": "e791afa9",
   "metadata": {},
   "outputs": [],
   "source": [
    "df1.join?"
   ]
  }
 ],
 "metadata": {
  "kernelspec": {
   "display_name": "Python 3",
   "language": "python",
   "name": "python3"
  },
  "language_info": {
   "codemirror_mode": {
    "name": "ipython",
    "version": 3
   },
   "file_extension": ".py",
   "mimetype": "text/x-python",
   "name": "python",
   "nbconvert_exporter": "python",
   "pygments_lexer": "ipython3",
   "version": "3.8.8"
  }
 },
 "nbformat": 4,
 "nbformat_minor": 5
}
